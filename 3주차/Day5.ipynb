{
 "cells": [
  {
   "cell_type": "markdown",
   "metadata": {},
   "source": [
    "### App service\n",
    "\n",
    "- 복잡하게 여러 요소들을 만들지 않고도 편하게 배포 할 수 있음\n",
    "\n",
    "### 배포 슬롯\n",
    "\n",
    "- 다양한 개발 환경의 미리보기, 관리, 테스트 배포\n",
    "- 배포 슬롯은 자체 호스트 이름을 가진 라이브앱\n",
    "- 버전 관리하기 좋음\n",
    "\n",
    "### CI/CD\n",
    "\n",
    "- CI : 푸시 머징\n",
    "- CD : 배포\n",
    "\n",
    "### App 서비스로 샌드위치 스토어 풀스택 구현\n",
    "\n",
    "1. 스토리지 계정 구성\n",
    "2. 백엔드 api 앱 배포\n",
    "3. 백엔드 api 앱 구성\n",
    "4. 프론트엔드 api 앱 배포\n",
    "5. 백엔드 api 앱 구성\n",
    "6. 샌드위치 스토어 테스트\n",
    "\n",
    "### 서버리스 : Azure Function : FaaS\n",
    "\n",
    "1. 서버의 완전한 추상화\n",
    "2. 즉각적인, 이벤트 주도의 확장성\n",
    "3. 요금은 사용한 만큼\n",
    "\n",
    "- 개발자는 애플리케이션 코드만 작성\n",
    "- 서버 관리 필요 없음\n"
   ]
  },
  {
   "cell_type": "code",
   "execution_count": 5,
   "metadata": {},
   "outputs": [],
   "source": [
    "from collections import deque\n",
    "\n",
    "def solution(bridge_length, weight, truck_weights):\n",
    "    # 시간 측정\n",
    "    time = 0\n",
    "    waiting = deque(truck_weights)\n",
    "    max_weight = weight\n",
    "    cur_weight = 0\n",
    "    \n",
    "    # in_bridge queue\n",
    "    in_bridge = deque([0]*bridge_length)    \n",
    "\n",
    "    \n",
    "    # 대기열이 있거나 다리위에 트럭이 있는동안 반복\n",
    "    while waiting or cur_weight>0:\n",
    "        # 요소만 출력\n",
    "        print([i for i in in_bridge])\n",
    "        time +=1\n",
    "        out_weight = in_bridge.popleft()\n",
    "        cur_weight -= out_weight\n",
    "        \n",
    "        if waiting: # 대기 트럭이 있으면\n",
    "            if cur_weight + waiting[0] <= max_weight: # 기존 무게+대기열[0]이 무게내 이면\n",
    "                in_weight = waiting.popleft() #트럭을 다리에 넣음\n",
    "                in_bridge.append(in_weight)\n",
    "                cur_weight += in_weight\n",
    "            else:\n",
    "                in_bridge.append(0) #대기 트럭이 있지만 무게넘치면 0넣어서 빈공간 채움\n",
    "        else: #대기 트럭이 없으면 0으로 채움\n",
    "            in_bridge.append(0)\n",
    "            \n",
    "        \n",
    "        \n",
    "    return time"
   ]
  },
  {
   "cell_type": "code",
   "execution_count": 6,
   "metadata": {},
   "outputs": [
    {
     "name": "stdout",
     "output_type": "stream",
     "text": [
      "[0, 0]\n",
      "[0, 7]\n",
      "[7, 0]\n",
      "[0, 4]\n",
      "[4, 5]\n",
      "[5, 0]\n",
      "[0, 6]\n",
      "[6, 0]\n"
     ]
    },
    {
     "data": {
      "text/plain": [
       "8"
      ]
     },
     "execution_count": 6,
     "metadata": {},
     "output_type": "execute_result"
    }
   ],
   "source": [
    "solution(2, 10, [7, 4, 5, 6])"
   ]
  },
  {
   "cell_type": "code",
   "execution_count": 12,
   "metadata": {},
   "outputs": [
    {
     "name": "stdout",
     "output_type": "stream",
     "text": [
      "[0, 0, 0, 0, 0, 0, 0, 0, 0, 0]\n",
      "[0, 0, 0, 0, 0, 0, 0, 0, 0, 10]\n",
      "[0, 0, 0, 0, 0, 0, 0, 0, 10, 0]\n",
      "[0, 0, 0, 0, 0, 0, 0, 10, 0, 0]\n",
      "[0, 0, 0, 0, 0, 0, 10, 0, 0, 0]\n",
      "[0, 0, 0, 0, 0, 10, 0, 0, 0, 0]\n",
      "[0, 0, 0, 0, 10, 0, 0, 0, 0, 0]\n",
      "[0, 0, 0, 10, 0, 0, 0, 0, 0, 0]\n",
      "[0, 0, 10, 0, 0, 0, 0, 0, 0, 0]\n",
      "[0, 10, 0, 0, 0, 0, 0, 0, 0, 0]\n",
      "[10, 0, 0, 0, 0, 0, 0, 0, 0, 0]\n"
     ]
    },
    {
     "data": {
      "text/plain": [
       "11"
      ]
     },
     "execution_count": 12,
     "metadata": {},
     "output_type": "execute_result"
    }
   ],
   "source": [
    "solution(10, 10, [10])\n",
    "# 트럭한대가 들어가는데 1초\n",
    "# 10초 후에 나감"
   ]
  },
  {
   "cell_type": "code",
   "execution_count": 11,
   "metadata": {},
   "outputs": [
    {
     "name": "stdout",
     "output_type": "stream",
     "text": [
      "[0, 0, 0, 0, 0]\n",
      "[0, 0, 0, 0, 10]\n",
      "[0, 0, 0, 10, 10]\n",
      "[0, 0, 10, 10, 10]\n",
      "[0, 10, 10, 10, 10]\n",
      "[10, 10, 10, 10, 10]\n",
      "[10, 10, 10, 10, 10]\n",
      "[10, 10, 10, 10, 10]\n",
      "[10, 10, 10, 10, 10]\n",
      "[10, 10, 10, 10, 10]\n",
      "[10, 10, 10, 10, 10]\n",
      "[10, 10, 10, 10, 0]\n",
      "[10, 10, 10, 0, 0]\n",
      "[10, 10, 0, 0, 0]\n",
      "[10, 0, 0, 0, 0]\n"
     ]
    },
    {
     "data": {
      "text/plain": [
       "15"
      ]
     },
     "execution_count": 11,
     "metadata": {},
     "output_type": "execute_result"
    }
   ],
   "source": [
    "solution(5, 100, [10,10,10,10,10,10,10,10,10,10])\n",
    "# 10번째 트럭이 들어가는데 10초가 걸리고\n",
    "# 다리를 다 건너는데 5초가 걸리므로 15초가 걸림"
   ]
  },
  {
   "cell_type": "code",
   "execution_count": null,
   "metadata": {},
   "outputs": [],
   "source": []
  }
 ],
 "metadata": {
  "kernelspec": {
   "display_name": "base",
   "language": "python",
   "name": "python3"
  },
  "language_info": {
   "codemirror_mode": {
    "name": "ipython",
    "version": 3
   },
   "file_extension": ".py",
   "mimetype": "text/x-python",
   "name": "python",
   "nbconvert_exporter": "python",
   "pygments_lexer": "ipython3",
   "version": "3.11.8"
  }
 },
 "nbformat": 4,
 "nbformat_minor": 2
}
