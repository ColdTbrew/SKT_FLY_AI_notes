{
 "cells": [
  {
   "cell_type": "markdown",
   "metadata": {},
   "source": [
    "# Git\n",
    "\n",
    "1. 팀 개발 프로젝트를 위한 핵심 도구\n",
    "2. 코드 개발에서의 협업, 변경 추적\n",
    "\n",
    "##### working directory -> staging area -> local repository -> remote repository\n",
    "\n",
    "`git checkout -b \"branch1\"` 브랜치 만들기\n",
    "`git merge branch1` 브랜치 병합\n",
    "\n",
    "#### Branching Strategies\n",
    "\n",
    "1. No branch 단일 코드 버전\n",
    "2. 3가지의 브랜치 전략\n",
    "   1. GitHub Flow\n",
    "      1. 가장 널리 사용, 새로운 브랜치 + 정기적 커밋\n",
    "      2. 기능별로 브랜치 파고 다 되면 병합\n",
    "   2. GitLab Flow\n",
    "      1. 다중 환경 (Production테스팅 후 배포 판, Staging테스팅, Development로컬 마스터)\n",
    "      2. 최소 3개의 브랜치가 유지됨\n",
    "   3. Git Flow (대규모)\n",
    "      1. 예정된 출시 사이클을 가진 프로젝트\n",
    "         1. 릴리스 -> master\n",
    "         2. 작업중 -> develop\n",
    "         3. 새로운 기능 -> feature\n",
    "         4. 기능 릴리스 -> release\n",
    "         5. 버그 -> 마스터에 fix브랜치\n"
   ]
  },
  {
   "cell_type": "markdown",
   "metadata": {},
   "source": [
    "# GitHub Actions\n",
    "\n",
    "- 프로젝트 빌드, 테스트, 릴리즈, 배포 파이프라인 자동화\n",
    "- 워크플로우 -> 잡 -> 스탭 -> 액션\n",
    "\n",
    "1. 워크 플로우 (Workflow)\n",
    "   • 작업의 전체 프로세스를 정의한 파일로, 특정 이벤트가 발생했을 때 실행됩니다.\n",
    "   • 예: 코드 푸시 시 테스트와 배포 실행.\n",
    "2. 이벤트 (Event)\n",
    "   • 워크플로우를 실행하는 트리거 역할.\n",
    "   • 예: push, pull_request, schedule 등.\n",
    "3. 러너 (Runner)\n",
    "   • 워크플로우를 실행하는 머신(서버)으로, GitHub-hosted와 Self-hosted가 있음.\n",
    "   • 예: GitHub에서 제공하는 클라우드 환경.\n",
    "4. 작업 (Job)\n",
    "   • 워크플로우 내에서 병렬 또는 순차적으로 실행되는 단위 작업.\n",
    "   • 예: 빌드, 테스트, 배포.\n",
    "5. 스텝 (Step)\n",
    "   • 작업(Job) 안에서 실행되는 명령어나 액션의 하나의 단계.\n",
    "   • 예: npm install 실행, 특정 파일 복사.\n",
    "6. 액션 (Action)\n",
    "   • 특정 작업을 수행하는 재사용 가능한 코드 조각.\n",
    "   • 예: actions/checkout으로 리포지토리 클론.\n",
    "\n",
    "# YAML 형식\n",
    "\n",
    "1. 가독성 높은 구성 설정\n",
    "2. 딕셔너리처럼 정의\n",
    "3. 키와 벨류는 한칸 띄기\n",
    "4. 중첩된 요소/ 블록 기본 공백 2개\n"
   ]
  },
  {
   "cell_type": "markdown",
   "metadata": {},
   "source": []
  }
 ],
 "metadata": {
  "language_info": {
   "name": "python"
  }
 },
 "nbformat": 4,
 "nbformat_minor": 2
}
