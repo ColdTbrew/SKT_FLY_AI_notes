{
 "cells": [
  {
   "cell_type": "markdown",
   "metadata": {},
   "source": [
    "# Azure Container Instance (PAAS) -> ACI\n"
   ]
  },
  {
   "cell_type": "markdown",
   "metadata": {},
   "source": [
    "#### IAC : Infra as code, cli로 복붙\n",
    "\n",
    "---\n",
    "\n",
    "### 컨테이너 인스턴스 만들기\n",
    "\n",
    "- 컨테이너 이름\n",
    "- 이미지 원본\n",
    "  - Azure container registry\n",
    "  - Docker hub\n",
    "- 네트워킹\n",
    "  - public이 기본, DNS 이름, 포트지정\n",
    "- 고급\n",
    "  - 다시 시작 정책이 있어서 요류 생길시 다시 시작가능\n",
    "  - 환경 변수 지정 가능\n",
    "\n",
    "### Azure Web App for container\n",
    "\n",
    "- App 서비스에 사용자 지정 컨테이너를 구성하는방법\n",
    "- 코드 대신 컨테이너를 올림\n",
    "- 웹앱에 정의된(파이썬, .net, 등등 안써도됨)\n",
    "- 단일 웹 앱에서 다중 도커 이미지로 서비스를 실행하는 방법\n",
    "  - Docker compose 구성 사용\n",
    "- Azure container instance와 비교\n",
    "  - 다중 컨테이너 앱 배포\n",
    "  - 자동 크기 조정, 부하 가능\n",
    "  - 배포된 이미지 변경 가능\n"
   ]
  },
  {
   "cell_type": "markdown",
   "metadata": {},
   "source": [
    "# Devops\n",
    "\n",
    "### development + operation\n",
    "\n",
    "- 일련의 프로세스로 통합\n",
    "- Development, QA, Operation\n",
    "\n",
    "### DevOps 원칙\n",
    "\n",
    "1. 고객중심으로 활동\n",
    "2. 끝을 염두에 두고 만들기\n",
    "3. 처음부터 끝까지 책임지기\n",
    "4. 완전히 독립적으로 다수의 역할로 일하는 자율 팀\n",
    "5. 지속적으로 개선하기\n",
    "6. 모든 것을 자동화하기\n",
    "\n",
    "### 지속 통합 / 지속 제공\n",
    "\n",
    "- 지속 통합\n",
    "  - 개발 단계\n",
    "  - 자동화된 코드 빌드 및 테스트\n",
    "  - 커밋 -> 변경 검증 + 패키징\n",
    "- 지속 제공\n",
    "  - 제공 단계 자동화\n",
    "  - 자동 게시\n",
    "\n",
    "### 버전 제어\n",
    "\n",
    "1. 팀 개발 프로젝트를 위한 핵심 도구\n",
    "2. 코드 개발에서의 협업과 변경 추적\n"
   ]
  },
  {
   "cell_type": "code",
   "execution_count": null,
   "metadata": {
    "vscode": {
     "languageId": "plaintext"
    }
   },
   "outputs": [],
   "source": []
  },
  {
   "cell_type": "markdown",
   "metadata": {},
   "source": []
  }
 ],
 "metadata": {
  "language_info": {
   "name": "python"
  }
 },
 "nbformat": 4,
 "nbformat_minor": 2
}
